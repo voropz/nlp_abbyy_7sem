{
 "cells": [
  {
   "cell_type": "markdown",
   "metadata": {},
   "source": [
    "## Задание 2.1\n",
    "### Статистический поиск опечаток"
   ]
  },
  {
   "cell_type": "code",
   "execution_count": 10,
   "metadata": {
    "collapsed": true
   },
   "outputs": [],
   "source": [
    "import re\n",
    "from collections import Counter"
   ]
  },
  {
   "cell_type": "code",
   "execution_count": 25,
   "metadata": {
    "collapsed": true
   },
   "outputs": [],
   "source": [
    "def text_to_wordlist(sentence):\n",
    "    regexp = \"[^а-яА-Яё]\"\n",
    "    sentence = re.sub(regexp, \" \", sentence)\n",
    "    return sentence.lower().split()\n",
    "\n",
    "\n",
    "def load_file(path):\n",
    "    words = []\n",
    "    with open(path, 'r', encoding='utf-8') as f:\n",
    "        text = f.read()\n",
    "        words = text_to_wordlist(text)\n",
    "    return words"
   ]
  },
  {
   "cell_type": "code",
   "execution_count": 26,
   "metadata": {
    "collapsed": true
   },
   "outputs": [],
   "source": [
    "words = load_file(\"wp.txt\")\n",
    "rwords = []\n",
    "for word in words:\n",
    "    rwords.append(\"##\" + word + \"##\")"
   ]
  },
  {
   "cell_type": "code",
   "execution_count": 39,
   "metadata": {
    "collapsed": true
   },
   "outputs": [],
   "source": [
    "ngrams = []\n",
    "for word in rwords:\n",
    "    for i in range(len(word) - 2):\n",
    "        ngrams.append(word[i:i+3])"
   ]
  },
  {
   "cell_type": "code",
   "execution_count": 46,
   "metadata": {
    "collapsed": true
   },
   "outputs": [],
   "source": [
    "c = Counter()\n",
    "for ngram in ngrams:\n",
    "    c[ngram] += 1 / len(ngrams)"
   ]
  },
  {
   "cell_type": "code",
   "execution_count": 73,
   "metadata": {},
   "outputs": [
    {
     "data": {
      "text/plain": [
       "[('о##', 0.018347568131007096),\n",
       " ('и##', 0.01526332480093253),\n",
       " ('а##', 0.014254422644370178),\n",
       " ('е##', 0.013482358261961057),\n",
       " ('##с', 0.013234815955642708),\n",
       " ('##п', 0.01312509450095025),\n",
       " ('##в', 0.012878890261152541),\n",
       " ('##н', 0.012652757019164428),\n",
       " ('##о', 0.010367339401911778),\n",
       " ('я##', 0.009512314895222994),\n",
       " ('##к', 0.009469496766562523),\n",
       " ('##и', 0.00914434660204707),\n",
       " ('ь##', 0.008860676499671448),\n",
       " ('л##', 0.006749207530102652),\n",
       " ('й##', 0.006585963414584711)]"
      ]
     },
     "execution_count": 73,
     "metadata": {},
     "output_type": "execute_result"
    }
   ],
   "source": [
    "c.most_common(15)"
   ]
  },
  {
   "cell_type": "code",
   "execution_count": null,
   "metadata": {
    "collapsed": true
   },
   "outputs": [],
   "source": []
  },
  {
   "cell_type": "code",
   "execution_count": 62,
   "metadata": {
    "collapsed": true
   },
   "outputs": [],
   "source": [
    "# returns True if and only if \"word\" is probably correct\n",
    "# i.e. all 3-gramms have frequency greater than \"border\"\n",
    "def err_check(counter, word, border):\n",
    "    rword = \"##\" + word + \"##\"\n",
    "    for i in range(len(rword) - 2):\n",
    "        if (counter[rword[i:i+3]] < border):\n",
    "            return False\n",
    "    return True\n",
    "        "
   ]
  },
  {
   "cell_type": "code",
   "execution_count": 77,
   "metadata": {},
   "outputs": [
    {
     "data": {
      "text/plain": [
       "True"
      ]
     },
     "execution_count": 77,
     "metadata": {},
     "output_type": "execute_result"
    }
   ],
   "source": [
    "err_check(c, \"глокая\", 1e-5)"
   ]
  },
  {
   "cell_type": "code",
   "execution_count": null,
   "metadata": {
    "collapsed": true
   },
   "outputs": [],
   "source": []
  }
 ],
 "metadata": {
  "kernelspec": {
   "display_name": "Python 3",
   "language": "python",
   "name": "python3"
  },
  "language_info": {
   "codemirror_mode": {
    "name": "ipython",
    "version": 3
   },
   "file_extension": ".py",
   "mimetype": "text/x-python",
   "name": "python",
   "nbconvert_exporter": "python",
   "pygments_lexer": "ipython3",
   "version": "3.6.2"
  }
 },
 "nbformat": 4,
 "nbformat_minor": 2
}
