{
 "cells": [
  {
   "cell_type": "markdown",
   "metadata": {},
   "source": [
    "## Задание 2.2\n",
    "### Порождение подсказок по словарю\n",
    "#### Бор"
   ]
  },
  {
   "cell_type": "code",
   "execution_count": 1,
   "metadata": {},
   "outputs": [],
   "source": [
    "class Trie:\n",
    "    def __init__(self):\n",
    "        self.children = {}\n",
    "        self.word = None\n",
    "    \n",
    "    \n",
    "    def add(self, word):\n",
    "        pos = self\n",
    "        for letter in word:\n",
    "            if letter not in pos.children:\n",
    "                pos.children[letter] = Trie()\n",
    "            pos = pos.children[letter]\n",
    "        pos.word = word\n",
    "            \n",
    "            \n",
    "    def find(self, word, allow_mistakes=0):\n",
    "        \n",
    "        # раскидываем возврат __find по разным сетам по числу ошибок\n",
    "        result = [set() for i in range(allow_mistakes + 1)]\n",
    "        suggestions = self.__find(word.lower(), allow_mistakes, 0)\n",
    "        for word, errors in suggestions:  \n",
    "            result[allow_mistakes - errors].add(word)\n",
    "        \n",
    "        for s in result:\n",
    "            if len(s) > 0:\n",
    "                return s  # set with the lowest # of errors\n",
    "        return None\n",
    "    \n",
    "    \n",
    "    # Возвращает набор {(слово, (допустимо ошибок - сделано ошибок))}\n",
    "    def __find(self, word, errors_left, pos):        \n",
    "        result = set()\n",
    "                \n",
    "        for child_letter, child_node in self.children.items():  # for every possible next letter\n",
    "            if pos < len(word) and child_letter == word[pos]:\n",
    "                result |= child_node.__find(word, errors_left, pos + 1)  # exact\n",
    "            elif errors_left > 0:\n",
    "                result |= child_node.__find(word, errors_left - 1, pos + 1)  # replace\n",
    "                result |= child_node.__find(word, errors_left - 1, pos)  # insert  \n",
    "        if errors_left > 0:\n",
    "            result |= self.__find(word, errors_left - 1, pos + 1)  # delete\n",
    "        \n",
    "        if self.word is not None and abs(pos - len(word)) <= errors_left:  # delete in the end\n",
    "            result.add((self.word, errors_left - abs(pos - len(word))))\n",
    "        \n",
    "        return result       "
   ]
  },
  {
   "cell_type": "markdown",
   "metadata": {},
   "source": [
    "### Датасет"
   ]
  },
  {
   "cell_type": "code",
   "execution_count": 4,
   "metadata": {
    "collapsed": true
   },
   "outputs": [],
   "source": [
    "import re\n",
    "from collections import Counter\n",
    "\n",
    "def text_to_wordlist(sentence):\n",
    "    regexp = \"[^а-яА-Яё]\"\n",
    "    sentence = re.sub(regexp, \" \", sentence)\n",
    "    return sentence.lower().split()\n",
    "\n",
    "def load_file(path):\n",
    "    words = []\n",
    "    with open(path, 'r', encoding='utf-8') as f:\n",
    "        text = f.read()\n",
    "        words = text_to_wordlist(text)\n",
    "    return words"
   ]
  },
  {
   "cell_type": "code",
   "execution_count": 5,
   "metadata": {},
   "outputs": [
    {
     "name": "stdout",
     "output_type": "stream",
     "text": [
      "['лев', 'николаевич', 'толстой', 'война', 'и', 'мир', 'том', 'часть', 'первая', 'е']\n"
     ]
    }
   ],
   "source": [
    "words = load_file(\"wp.txt\")\n",
    "print (words[:10])"
   ]
  },
  {
   "cell_type": "markdown",
   "metadata": {},
   "source": [
    "### Наполняем бор и пробуем искать"
   ]
  },
  {
   "cell_type": "code",
   "execution_count": 6,
   "metadata": {},
   "outputs": [],
   "source": [
    "spell_checker = Trie()\n",
    "for word in words:\n",
    "    spell_checker.add(word)"
   ]
  },
  {
   "cell_type": "code",
   "execution_count": 9,
   "metadata": {},
   "outputs": [
    {
     "name": "stdout",
     "output_type": "stream",
     "text": [
      "лев {'лев'}\n",
      "ТоЛсТОй {'толстой'}\n",
      "воина {'воин', 'война', 'волна', 'вина'}\n",
      "мир {'мир'}\n",
      "Наташа {'наташа'}\n",
      "хайп {'нап', 'ха', 'тайн', 'ай', 'рай', 'дай', 'хаос', 'чай'}\n",
      "банан {'рана', 'бала', 'барон', 'баланс', 'банке', 'барин', 'ранен', 'бантах', 'дана', 'канал', 'баба', 'балах', 'бани', 'ланн'}\n"
     ]
    }
   ],
   "source": [
    "test = [\"лев\", \"ТоЛсТОй\", \"воина\", \"мир\", \"Наташа\", \"хайп\", \"банан\"]\n",
    "for t in test:\n",
    "    print (t, spell_checker.find(t, allow_mistakes=2))"
   ]
  },
  {
   "cell_type": "code",
   "execution_count": null,
   "metadata": {
    "collapsed": true
   },
   "outputs": [],
   "source": []
  },
  {
   "cell_type": "code",
   "execution_count": null,
   "metadata": {},
   "outputs": [],
   "source": []
  },
  {
   "cell_type": "code",
   "execution_count": null,
   "metadata": {
    "collapsed": true
   },
   "outputs": [],
   "source": []
  }
 ],
 "metadata": {
  "kernelspec": {
   "display_name": "Python 3",
   "language": "python",
   "name": "python3"
  },
  "language_info": {
   "codemirror_mode": {
    "name": "ipython",
    "version": 3
   },
   "file_extension": ".py",
   "mimetype": "text/x-python",
   "name": "python",
   "nbconvert_exporter": "python",
   "pygments_lexer": "ipython3",
   "version": "3.6.2"
  }
 },
 "nbformat": 4,
 "nbformat_minor": 2
}
